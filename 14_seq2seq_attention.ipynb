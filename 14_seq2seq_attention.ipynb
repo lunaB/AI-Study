{
  "nbformat": 4,
  "nbformat_minor": 0,
  "metadata": {
    "colab": {
      "name": "14_seq2se1_attention",
      "provenance": [],
      "collapsed_sections": [],
      "authorship_tag": "ABX9TyPfLt6vNpeJ5RrOFZfVCLow",
      "include_colab_link": true
    },
    "kernelspec": {
      "name": "python3",
      "display_name": "Python 3"
    },
    "language_info": {
      "name": "python"
    }
  },
  "cells": [
    {
      "cell_type": "markdown",
      "metadata": {
        "id": "view-in-github",
        "colab_type": "text"
      },
      "source": [
        "<a href=\"https://colab.research.google.com/github/lunaB/Pytorch-Study/blob/master/attention.ipynb\" target=\"_parent\"><img src=\"https://colab.research.google.com/assets/colab-badge.svg\" alt=\"Open In Colab\"/></a>"
      ]
    },
    {
      "cell_type": "code",
      "metadata": {
        "colab": {
          "base_uri": "https://localhost:8080/"
        },
        "id": "xDhoUSYyJLS0",
        "outputId": "80ce8659-87c8-4b40-e491-cfee8ad4e049"
      },
      "source": [
        "!sudo apt-get install -y fonts-nanum\n",
        "!sudo fc-cache -fv\n",
        "!rm ~/.cache/matplotlib -rf\n",
        "# 실행후 런타임 다시시작"
      ],
      "execution_count": 2,
      "outputs": [
        {
          "output_type": "stream",
          "text": [
            "Reading package lists... Done\n",
            "Building dependency tree       \n",
            "Reading state information... Done\n",
            "The following NEW packages will be installed:\n",
            "  fonts-nanum\n",
            "0 upgraded, 1 newly installed, 0 to remove and 39 not upgraded.\n",
            "Need to get 9,604 kB of archives.\n",
            "After this operation, 29.5 MB of additional disk space will be used.\n",
            "Get:1 http://archive.ubuntu.com/ubuntu bionic/universe amd64 fonts-nanum all 20170925-1 [9,604 kB]\n",
            "Fetched 9,604 kB in 2s (5,360 kB/s)\n",
            "debconf: unable to initialize frontend: Dialog\n",
            "debconf: (No usable dialog-like program is installed, so the dialog based frontend cannot be used. at /usr/share/perl5/Debconf/FrontEnd/Dialog.pm line 76, <> line 1.)\n",
            "debconf: falling back to frontend: Readline\n",
            "debconf: unable to initialize frontend: Readline\n",
            "debconf: (This frontend requires a controlling tty.)\n",
            "debconf: falling back to frontend: Teletype\n",
            "dpkg-preconfigure: unable to re-open stdin: \n",
            "Selecting previously unselected package fonts-nanum.\n",
            "(Reading database ... 160815 files and directories currently installed.)\n",
            "Preparing to unpack .../fonts-nanum_20170925-1_all.deb ...\n",
            "Unpacking fonts-nanum (20170925-1) ...\n",
            "Setting up fonts-nanum (20170925-1) ...\n",
            "Processing triggers for fontconfig (2.12.6-0ubuntu2) ...\n",
            "/usr/share/fonts: caching, new cache contents: 0 fonts, 1 dirs\n",
            "/usr/share/fonts/truetype: caching, new cache contents: 0 fonts, 3 dirs\n",
            "/usr/share/fonts/truetype/humor-sans: caching, new cache contents: 1 fonts, 0 dirs\n",
            "/usr/share/fonts/truetype/liberation: caching, new cache contents: 16 fonts, 0 dirs\n",
            "/usr/share/fonts/truetype/nanum: caching, new cache contents: 10 fonts, 0 dirs\n",
            "/usr/local/share/fonts: caching, new cache contents: 0 fonts, 0 dirs\n",
            "/root/.local/share/fonts: skipping, no such directory\n",
            "/root/.fonts: skipping, no such directory\n",
            "/var/cache/fontconfig: cleaning cache directory\n",
            "/root/.cache/fontconfig: not cleaning non-existent cache directory\n",
            "/root/.fontconfig: not cleaning non-existent cache directory\n",
            "fc-cache: succeeded\n"
          ],
          "name": "stdout"
        }
      ]
    },
    {
      "cell_type": "code",
      "metadata": {
        "id": "Y7xn3a36p9Zs"
      },
      "source": [
        "import torch\n",
        "import torch.nn as nn\n",
        "import torch.optim as optim\n",
        "import torch.nn.functional as F\n",
        "\n",
        "import numpy as np\n",
        "import pandas as pd\n",
        "\n",
        "import matplotlib.pyplot as plt\n",
        "\n",
        "plt.rc('font', family='NanumBarunGothic') "
      ],
      "execution_count": 39,
      "outputs": []
    },
    {
      "cell_type": "code",
      "metadata": {
        "colab": {
          "base_uri": "https://localhost:8080/",
          "height": 173
        },
        "id": "5qEaB-Qbqh5C",
        "outputId": "a31a89b5-a6a3-44e4-fef6-e0df0476fcaf"
      },
      "source": [
        "df = pd.DataFrame([[\"i love you\", \"ich liebe dich\"],\n",
        "                    [\"i love myself\", \"ich liebe mich\"],\n",
        "                    [\"i like you\", \"ich mag dich\"],\n",
        "                    [\"he love you\", \"er liebt dich\"]], columns=['src', 'tar'])\n",
        "df"
      ],
      "execution_count": 75,
      "outputs": [
        {
          "output_type": "execute_result",
          "data": {
            "text/html": [
              "<div>\n",
              "<style scoped>\n",
              "    .dataframe tbody tr th:only-of-type {\n",
              "        vertical-align: middle;\n",
              "    }\n",
              "\n",
              "    .dataframe tbody tr th {\n",
              "        vertical-align: top;\n",
              "    }\n",
              "\n",
              "    .dataframe thead th {\n",
              "        text-align: right;\n",
              "    }\n",
              "</style>\n",
              "<table border=\"1\" class=\"dataframe\">\n",
              "  <thead>\n",
              "    <tr style=\"text-align: right;\">\n",
              "      <th></th>\n",
              "      <th>src</th>\n",
              "      <th>tar</th>\n",
              "    </tr>\n",
              "  </thead>\n",
              "  <tbody>\n",
              "    <tr>\n",
              "      <th>0</th>\n",
              "      <td>i love you</td>\n",
              "      <td>ich liebe dich</td>\n",
              "    </tr>\n",
              "    <tr>\n",
              "      <th>1</th>\n",
              "      <td>i love myself</td>\n",
              "      <td>ich liebe mich</td>\n",
              "    </tr>\n",
              "    <tr>\n",
              "      <th>2</th>\n",
              "      <td>i like you</td>\n",
              "      <td>ich mag dich</td>\n",
              "    </tr>\n",
              "    <tr>\n",
              "      <th>3</th>\n",
              "      <td>he love you</td>\n",
              "      <td>er liebt dich</td>\n",
              "    </tr>\n",
              "  </tbody>\n",
              "</table>\n",
              "</div>"
            ],
            "text/plain": [
              "             src             tar\n",
              "0     i love you  ich liebe dich\n",
              "1  i love myself  ich liebe mich\n",
              "2     i like you    ich mag dich\n",
              "3    he love you   er liebt dich"
            ]
          },
          "metadata": {
            "tags": []
          },
          "execution_count": 75
        }
      ]
    },
    {
      "cell_type": "code",
      "metadata": {
        "id": "dDgwbch2zOqn"
      },
      "source": [
        "SOS_token = 0\n",
        "EOS_token = 1\n",
        "\n",
        "class Tokenizer:\n",
        "    def __init__(self):\n",
        "        self.vocab2index = {\"<SOS>\": SOS_token, \"<EOS>\": EOS_token}\n",
        "        self.index2vocab = {SOS_token: \"<SOS>\", EOS_token: \"<EOS>\"}\n",
        "        self.n_vocab = len(self.vocab2index)\n",
        "\n",
        "    def add_vocab(self, sentence):\n",
        "        for word in sentence.split(\" \"):\n",
        "            if word not in self.vocab2index:\n",
        "                self.vocab2index[word] = self.n_vocab\n",
        "                self.index2vocab[self.n_vocab] = word\n",
        "                self.n_vocab += 1\n",
        "    \n",
        "    def to_seq(self, sentence):\n",
        "        l = []\n",
        "        for s in sentence.split(\" \"):\n",
        "            l.append(self.vocab2index[s])\n",
        "        return l"
      ],
      "execution_count": 76,
      "outputs": []
    },
    {
      "cell_type": "code",
      "metadata": {
        "id": "uXFANgfkuY9C",
        "colab": {
          "base_uri": "https://localhost:8080/"
        },
        "outputId": "b1f54cc4-c307-4e81-a40d-99e7a500aaeb"
      },
      "source": [
        "src_tok = Tokenizer()\n",
        "for s in df['src'].values:\n",
        "    for v in s.split(' '):\n",
        "        src_tok.add_vocab(v)\n",
        "\n",
        "tar_tok = Tokenizer()\n",
        "for s in df['tar'].values:\n",
        "    for v in s.split(' '):\n",
        "        tar_tok.add_vocab(v)\n",
        "\n",
        "print(src_tok.vocab2index)\n",
        "print(tar_tok.vocab2index)"
      ],
      "execution_count": 104,
      "outputs": [
        {
          "output_type": "stream",
          "text": [
            "{'<SOS>': 0, '<EOS>': 1, 'i': 2, 'love': 3, 'you': 4, 'myself': 5, 'like': 6, 'he': 7}\n",
            "{'<SOS>': 0, '<EOS>': 1, 'ich': 2, 'liebe': 3, 'dich': 4, 'mich': 5, 'mag': 6, 'er': 7, 'liebt': 8}\n"
          ],
          "name": "stdout"
        }
      ]
    },
    {
      "cell_type": "code",
      "metadata": {
        "colab": {
          "base_uri": "https://localhost:8080/"
        },
        "id": "kCJth_4Uunyv",
        "outputId": "3ba900d8-5e1a-44d9-f304-57a9d9465e56"
      },
      "source": [
        "src_data = [src_tok.to_seq(s) for s in df['src'].values]\n",
        "tar_data = [[SOS_token] + tar_tok.to_seq(s) + [EOS_token] for s in df['tar'].values]\n",
        "print(src_data)\n",
        "print(tar_data)"
      ],
      "execution_count": 105,
      "outputs": [
        {
          "output_type": "stream",
          "text": [
            "[[2, 3, 4], [2, 3, 5], [2, 6, 4], [7, 3, 4]]\n",
            "[[0, 2, 3, 4, 1], [0, 2, 3, 5, 1], [0, 2, 6, 4, 1], [0, 7, 8, 4, 1]]\n"
          ],
          "name": "stdout"
        }
      ]
    },
    {
      "cell_type": "code",
      "metadata": {
        "id": "cCNKLxPe2ijL"
      },
      "source": [
        "# hparam\n",
        "hparam = {}\n",
        "hparam['embed_size'] = 4"
      ],
      "execution_count": 106,
      "outputs": []
    },
    {
      "cell_type": "code",
      "metadata": {
        "id": "Wk6pi1__UWc5"
      },
      "source": [
        "class Encoder(nn.Module):\n",
        "    def __init__(self):\n",
        "        super(Encoder, self).__init__()\n",
        "        self.embed = nn.Embedding(src_tok.n_vocab, hparam['embed_size']) # embed_size = 4\n",
        "        self.rnn = nn.LSTM(input_size=hparam['embed_size'], hidden_size=hparam['embed_size'])\n",
        "\n",
        "    def forward(self, x, h, c):\n",
        "        # (1)\n",
        "        x = self.embed(x)\n",
        "        # (embed_size)\n",
        "        x = x.view((1, 1, -1))\n",
        "        # (1,1,embed_size)\n",
        "        x, (h, c) = self.rnn(x, (h, c))\n",
        "        # (1,1,embed_size) (1,1,embed_size) (1,1,embed_size)\n",
        "        return h, c"
      ],
      "execution_count": 107,
      "outputs": []
    },
    {
      "cell_type": "code",
      "metadata": {
        "id": "ZPb7k5OJUXk9"
      },
      "source": [
        "class Decoder(nn.Module):\n",
        "    def __init__(self):\n",
        "        super(Decoder, self).__init__()\n",
        "        self.embed = nn.Embedding(tar_tok.n_vocab, hparam['embed_size']) # embed_size = 4\n",
        "        self.rnn = nn.LSTM(input_size=hparam['embed_size'], hidden_size=hparam['embed_size'])\n",
        "\n",
        "    def forward(self, x, h, c):\n",
        "        # (1)\n",
        "        x = self.embed(x)\n",
        "        # (embed_size)\n",
        "        x = x.view((1, 1, -1))\n",
        "        # (1,1,embed_size)\n",
        "        x, (h, c) = self.rnn(x, (h, c))\n",
        "        # (1,1,embed_size) (1,1,embed_size) (1,1,embed_size)\n",
        "        return h, c"
      ],
      "execution_count": 108,
      "outputs": []
    },
    {
      "cell_type": "code",
      "metadata": {
        "id": "LtQRaIYamXgy"
      },
      "source": [
        "class Attention(nn.Module):\n",
        "    def __init__(self):\n",
        "        super(Attention, self).__init__()\n",
        "        self.wc = nn.Linear(hparam['embed_size'] * 2, hparam['embed_size']) # (embed_size * 2, embed_size) = (8, 4)\n",
        "        self.tanh = nn.Tanh()\n",
        "        self.wy = nn.Linear(hparam['embed_size'], tar_tok.n_vocab) # (embed_size, word_cnt)\n",
        "    def forward(self, x):\n",
        "        # (1,1,embed_size * 2)\n",
        "        x = self.wc(x)\n",
        "        # (1,1,embed_size)\n",
        "        x = self.tanh(x)\n",
        "        # (1,1,embed_size)\n",
        "        x = self.wy(x)\n",
        "        # (1,1,word_cnt)\n",
        "        x = F.log_softmax(x, dim=2)\n",
        "        # (1,1,word_cnt)\n",
        "        return x"
      ],
      "execution_count": 109,
      "outputs": []
    },
    {
      "cell_type": "code",
      "metadata": {
        "colab": {
          "base_uri": "https://localhost:8080/"
        },
        "id": "L70lKDzrurga",
        "outputId": "5729559d-1620-40c4-e2ae-907809f02321"
      },
      "source": [
        "encoder = Encoder()\n",
        "decoder = Decoder()\n",
        "attention = Attention()\n",
        "\n",
        "enc_optimizer = optim.RMSprop(encoder.parameters(), lr=0.01)\n",
        "dec_optimizer = optim.RMSprop(decoder.parameters(), lr=0.01)\n",
        "att_optimizer = optim.RMSprop(attention.parameters(), lr=0.01)\n",
        "criterion = nn.NLLLoss()\n",
        "\n",
        "loss_hist = []\n",
        "for epoch in range(500):\n",
        "    loss_avg = []\n",
        "\n",
        "    for batch in range(len(src_data)):\n",
        "\n",
        "        loss = 0\n",
        "\n",
        "        src_train = torch.LongTensor(src_data[batch])\n",
        "\n",
        "        h, c = torch.zeros((1, 1, hparam['embed_size'])), torch.zeros((1, 1, hparam['embed_size']))\n",
        "        # (1,1,embed_size) (1,1,embed_size)\n",
        "\n",
        "        enc_out = torch.Tensor([])\n",
        "        # (src_len, 1, embed_size)\n",
        "        for i in range(len(src_train)):\n",
        "            # x = (1)\n",
        "            h, c = encoder(src_train[i], h, c)\n",
        "            # (1,1,embed_size) (1,1,embed_size)\n",
        "            enc_out = torch.cat((enc_out, h))\n",
        "\n",
        "        tar_train = torch.LongTensor(tar_data[batch])\n",
        "\n",
        "        sent = []\n",
        "\n",
        "        # teaching force rate\n",
        "        rate = 0.5\n",
        "\n",
        "        # teaching force\n",
        "        if rate > np.random.rand():\n",
        "            for i in range(len(tar_train[:-1])):\n",
        "                h, c = decoder(tar_train[i], h, c)\n",
        "                # (1,1,embed_size) (1,1,embed_size)\n",
        "                score = enc_out.matmul(h.view((1,hparam['embed_size'],1)))\n",
        "                # t 시점 state의 encoder h attention score\n",
        "                # (src_len, 1, 1) = score(hn, stT)\n",
        "                att_dis = F.softmax(score, dim=0)\n",
        "                # Attention Distribution\n",
        "                # (src_len,1,1)\n",
        "                att_v = torch.sum(enc_out * att_dis, dim=0).view(1,1,hparam['embed_size'])\n",
        "                # Attention Value\n",
        "                # (1,1,embed_size)\n",
        "                con = torch.cat((att_v, h), dim=2)\n",
        "                # Concatinate\n",
        "                out = attention(con)\n",
        "                # (1,1,word_cnt)\n",
        "                loss += criterion(out.view((1, -1)), tar_train[i+1].view(1))\n",
        "\n",
        "                sent.append(tar_tok.index2vocab[out.argmax().detach().item()])\n",
        "\n",
        "        # without teaching force\n",
        "        else:\n",
        "            dec_in = tar_train[0]\n",
        "            # skalar\n",
        "            for i in range(len(tar_train[:-1])):\n",
        "                h, c = decoder(dec_in, h, c)\n",
        "                score = enc_out.matmul(h.view((1,hparam['embed_size'],1)))\n",
        "                att_dis = F.softmax(score, dim=0)\n",
        "                att_v = torch.sum(enc_out * att_dis, dim=0).view(1,1,hparam['embed_size'])\n",
        "                con = torch.cat((att_v, h), dim=2)\n",
        "                out = attention(con)\n",
        "                topv, topi = out.squeeze().topk(1) # detach!\n",
        "                # (1), (1)\n",
        "                dec_in = topi[0].detach()\n",
        "                # skalar\n",
        "                loss += criterion(out.view((1, -1)), tar_train[i+1].view(1))\n",
        "                \n",
        "                sent.append(tar_tok.index2vocab[out.argmax().detach().item()])\n",
        "                if dec_in == EOS_token:\n",
        "                    break\n",
        "        \n",
        "        if (epoch + 1) % 50 == 0:\n",
        "            print(epoch + 1, batch, loss.item())\n",
        "            print(' '.join([tar_tok.index2vocab[t] for t in tar_train.detach().numpy()[1: ]]))\n",
        "            print(' '.join(sent))\n",
        "        \n",
        "        enc_optimizer.zero_grad()\n",
        "        dec_optimizer.zero_grad()\n",
        "        att_optimizer.zero_grad()\n",
        "\n",
        "        loss = loss / len(df)\n",
        "        loss.backward()\n",
        "\n",
        "        enc_optimizer.step()\n",
        "        dec_optimizer.step()\n",
        "        att_optimizer.step()\n",
        "\n",
        "        loss_avg.append(loss.item())\n",
        "\n",
        "    loss_hist.append(sum(loss_avg))\n",
        "\n",
        "    if (epoch + 1) % 50 == 0:\n",
        "        print('avg loss', loss_hist[-1])\n",
        "        print('=============================')"
      ],
      "execution_count": 115,
      "outputs": [
        {
          "output_type": "stream",
          "text": [
            "50 0 0.14833630621433258\n",
            "ich liebe dich <EOS>\n",
            "ich liebe dich <EOS>\n",
            "50 1 0.2763829529285431\n",
            "ich liebe mich <EOS>\n",
            "ich liebe mich <EOS>\n",
            "50 2 0.15102164447307587\n",
            "ich mag dich <EOS>\n",
            "ich mag dich <EOS>\n",
            "50 3 0.20915456116199493\n",
            "er liebt dich <EOS>\n",
            "er liebt dich <EOS>\n",
            "avg loss 0.19622386619448662\n",
            "=============================\n",
            "100 0 0.03028861992061138\n",
            "ich liebe dich <EOS>\n",
            "ich liebe dich <EOS>\n",
            "100 1 0.04911121726036072\n",
            "ich liebe mich <EOS>\n",
            "ich liebe mich <EOS>\n",
            "100 2 0.03375150263309479\n",
            "ich mag dich <EOS>\n",
            "ich mag dich <EOS>\n",
            "100 3 0.04313572123646736\n",
            "er liebt dich <EOS>\n",
            "er liebt dich <EOS>\n",
            "avg loss 0.03907176526263356\n",
            "=============================\n",
            "150 0 0.007999850437045097\n",
            "ich liebe dich <EOS>\n",
            "ich liebe dich <EOS>\n",
            "150 1 0.014074131846427917\n",
            "ich liebe mich <EOS>\n",
            "ich liebe mich <EOS>\n",
            "150 2 0.009901531040668488\n",
            "ich mag dich <EOS>\n",
            "ich mag dich <EOS>\n",
            "150 3 0.013088466599583626\n",
            "er liebt dich <EOS>\n",
            "er liebt dich <EOS>\n",
            "avg loss 0.011265994980931282\n",
            "=============================\n",
            "200 0 0.002717508003115654\n",
            "ich liebe dich <EOS>\n",
            "ich liebe dich <EOS>\n",
            "200 1 0.004773566033691168\n",
            "ich liebe mich <EOS>\n",
            "ich liebe mich <EOS>\n",
            "200 2 0.003269321983680129\n",
            "ich mag dich <EOS>\n",
            "ich mag dich <EOS>\n",
            "200 3 0.004537995904684067\n",
            "er liebt dich <EOS>\n",
            "er liebt dich <EOS>\n",
            "avg loss 0.0038245979812927544\n",
            "=============================\n",
            "250 0 0.0009577028104104102\n",
            "ich liebe dich <EOS>\n",
            "ich liebe dich <EOS>\n",
            "250 1 0.0017205922631546855\n",
            "ich liebe mich <EOS>\n",
            "ich liebe mich <EOS>\n",
            "250 2 0.0011596669210121036\n",
            "ich mag dich <EOS>\n",
            "ich mag dich <EOS>\n",
            "250 3 0.0016410588286817074\n",
            "er liebt dich <EOS>\n",
            "er liebt dich <EOS>\n",
            "avg loss 0.0013697552058147267\n",
            "=============================\n",
            "300 0 0.00034413894172757864\n",
            "ich liebe dich <EOS>\n",
            "ich liebe dich <EOS>\n",
            "300 1 0.0006359929102472961\n",
            "ich liebe mich <EOS>\n",
            "ich liebe mich <EOS>\n",
            "300 2 0.00042423343984410167\n",
            "ich mag dich <EOS>\n",
            "ich mag dich <EOS>\n",
            "300 3 0.0006012298399582505\n",
            "er liebt dich <EOS>\n",
            "er liebt dich <EOS>\n",
            "avg loss 0.0005013987829443067\n",
            "=============================\n",
            "350 0 0.0001249289489351213\n",
            "ich liebe dich <EOS>\n",
            "ich liebe dich <EOS>\n",
            "350 1 0.00023816504108253866\n",
            "ich liebe mich <EOS>\n",
            "ich liebe mich <EOS>\n",
            "350 2 0.00015759014058858156\n",
            "ich mag dich <EOS>\n",
            "ich mag dich <EOS>\n",
            "350 3 0.00022148237621877342\n",
            "er liebt dich <EOS>\n",
            "er liebt dich <EOS>\n",
            "avg loss 0.00018554162670625374\n",
            "=============================\n",
            "400 0 4.5656841393793e-05\n",
            "ich liebe dich <EOS>\n",
            "ich liebe dich <EOS>\n",
            "400 1 8.952404459705576e-05\n",
            "ich liebe mich <EOS>\n",
            "ich liebe mich <EOS>\n",
            "400 2 5.888874875381589e-05\n",
            "ich mag dich <EOS>\n",
            "ich mag dich <EOS>\n",
            "400 3 8.177640847861767e-05\n",
            "er liebt dich <EOS>\n",
            "er liebt dich <EOS>\n",
            "avg loss 6.896151080582058e-05\n",
            "=============================\n",
            "450 0 1.7046884750016034e-05\n",
            "ich liebe dich <EOS>\n",
            "ich liebe dich <EOS>\n",
            "450 1 3.3735926990630105e-05\n",
            "ich liebe mich <EOS>\n",
            "ich liebe mich <EOS>\n",
            "450 2 2.2053627617424354e-05\n",
            "ich mag dich <EOS>\n",
            "ich mag dich <EOS>\n",
            "450 3 3.0278999474830925e-05\n",
            "er liebt dich <EOS>\n",
            "er liebt dich <EOS>\n",
            "avg loss 2.5778859708225355e-05\n",
            "=============================\n",
            "500 0 6.079668310121633e-06\n",
            "ich liebe dich <EOS>\n",
            "ich liebe dich <EOS>\n",
            "500 1 1.275535123568261e-05\n",
            "ich liebe mich <EOS>\n",
            "ich liebe mich <EOS>\n",
            "500 2 8.225428246078081e-06\n",
            "ich mag dich <EOS>\n",
            "ich mag dich <EOS>\n",
            "500 3 1.0967234629788436e-05\n",
            "er liebt dich <EOS>\n",
            "er liebt dich <EOS>\n",
            "avg loss 9.50692060541769e-06\n",
            "=============================\n"
          ],
          "name": "stdout"
        }
      ]
    },
    {
      "cell_type": "code",
      "metadata": {
        "colab": {
          "base_uri": "https://localhost:8080/",
          "height": 265
        },
        "id": "NynOrzGq-uaN",
        "outputId": "8450d909-18ca-4f05-de41-77dfd3e5162a"
      },
      "source": [
        "plt.plot(loss_hist)\n",
        "plt.show()"
      ],
      "execution_count": 116,
      "outputs": [
        {
          "output_type": "display_data",
          "data": {
            "image/png": "[encoded data removed]",
            "text/plain": [
              "<Figure size 432x288 with 1 Axes>"
            ]
          },
          "metadata": {
            "tags": [],
            "needs_background": "light"
          }
        }
      ]
    },
    {
      "cell_type": "code",
      "metadata": {
        "id": "_uU2Iav3EOyl"
      },
      "source": [
        "def evaluation(batch):\n",
        "    src_train = torch.LongTensor(src_data[batch])\n",
        "\n",
        "    h, c = torch.zeros((1, 1, hparam['embed_size'])), torch.zeros((1, 1, hparam['embed_size']))\n",
        "    # (1,1,embed_size) (1,1,embed_size)\n",
        "\n",
        "    enc_out = torch.Tensor([])\n",
        "    # (src_len, 1, embed_size)\n",
        "    for i in range(len(src_train)):\n",
        "        # x = (1)\n",
        "        h, c = encoder(src_train[i], h, c)\n",
        "        # (1,1,embed_size) (1,1,embed_size)\n",
        "        enc_out = torch.cat((enc_out, h))\n",
        "\n",
        "    tar_train = torch.LongTensor(tar_data[batch])\n",
        "\n",
        "    sent = []\n",
        "    att_met = []\n",
        "\n",
        "    dec_in = tar_train[0]\n",
        "    # skalar\n",
        "    for i in range(len(tar_train[:-1])):\n",
        "        h, c = decoder(dec_in, h, c)\n",
        "        score = enc_out.matmul(h.view((1,hparam['embed_size'],1)))\n",
        "        att_dis = F.softmax(score, dim=0)\n",
        "\n",
        "        att_met.append(att_dis.detach().numpy().reshape((-1)).tolist()) # visualization\n",
        "\n",
        "        att_v = torch.sum(enc_out * att_dis, dim=0).view(1,1,hparam['embed_size'])\n",
        "        con = torch.cat((att_v, h), dim=2)\n",
        "        out = attention(con)\n",
        "        topv, topi = out.squeeze().topk(1) # detach!\n",
        "        # (1), (1)\n",
        "        dec_in = topi[0].detach()\n",
        "        \n",
        "        sent.append(tar_tok.index2vocab[out.argmax().detach().item()])\n",
        "        # if dec_in == EOS_token:\n",
        "        #     break\n",
        "    \n",
        "    s_arr = [src_tok.index2vocab[t] for t in src_train.detach().numpy()]\n",
        "    t_arr = [tar_tok.index2vocab[t] for t in tar_train.detach().numpy()[1: ]]\n",
        "    \n",
        "    print(' '.join(s_arr))\n",
        "    print(' '.join(t_arr))\n",
        "    print(' '.join(sent))\n",
        "\n",
        "    return att_met, s_arr, t_arr"
      ],
      "execution_count": 117,
      "outputs": []
    },
    {
      "cell_type": "code",
      "metadata": {
        "id": "7Vrqo-nl0n7H"
      },
      "source": [
        "def visualization(test_case):\n",
        "    att_met, s_arr, t_arr = evaluation(test_case)\n",
        "\n",
        "    fig = plt.figure()\n",
        "    ax = fig.add_subplot(111)\n",
        "\n",
        "    c = ax.matshow(np.array(att_met).T, cmap='bone')\n",
        "\n",
        "    ax.set_xticks(np.arange(len(t_arr)))\n",
        "    ax.set_yticks(np.arange(len(s_arr)))\n",
        "\n",
        "    ax.set_xticklabels(t_arr)\n",
        "    ax.set_yticklabels(s_arr)\n",
        "\n",
        "    fig.colorbar(c)\n",
        "    plt.show()"
      ],
      "execution_count": 118,
      "outputs": []
    },
    {
      "cell_type": "code",
      "metadata": {
        "colab": {
          "base_uri": "https://localhost:8080/",
          "height": 1000
        },
        "id": "LFyGdSAgzBNA",
        "outputId": "de0928fb-675e-4c46-c753-d51d0ff8040f"
      },
      "source": [
        "for i in range(4):\n",
        "    visualization(i)"
      ],
      "execution_count": 119,
      "outputs": [
        {
          "output_type": "stream",
          "text": [
            "i love you\n",
            "ich liebe dich <EOS>\n",
            "ich liebe dich <EOS>\n"
          ],
          "name": "stdout"
        },
        {
          "output_type": "display_data",
          "data": {
            "image/png": "[encoded data removed]",
            "text/plain": [
              "<Figure size 432x288 with 2 Axes>"
            ]
          },
          "metadata": {
            "tags": [],
            "needs_background": "light"
          }
        },
        {
          "output_type": "stream",
          "text": [
            "i love myself\n",
            "ich liebe mich <EOS>\n",
            "ich liebe mich <EOS>\n"
          ],
          "name": "stdout"
        },
        {
          "output_type": "display_data",
          "data": {
            "image/png": "[encoded data removed]",
            "text/plain": [
              "<Figure size 432x288 with 2 Axes>"
            ]
          },
          "metadata": {
            "tags": [],
            "needs_background": "light"
          }
        },
        {
          "output_type": "stream",
          "text": [
            "i like you\n",
            "ich mag dich <EOS>\n",
            "ich mag dich <EOS>\n"
          ],
          "name": "stdout"
        },
        {
          "output_type": "display_data",
          "data": {
            "image/png": "[encoded data removed]",
            "text/plain": [
              "<Figure size 432x288 with 2 Axes>"
            ]
          },
          "metadata": {
            "tags": [],
            "needs_background": "light"
          }
        },
        {
          "output_type": "stream",
          "text": [
            "he love you\n",
            "er liebt dich <EOS>\n",
            "er liebt dich <EOS>\n"
          ],
          "name": "stdout"
        },
        {
          "output_type": "display_data",
          "data": {
            "image/png": "[encoded data removed]",
            "text/plain": [
              "<Figure size 432x288 with 2 Axes>"
            ]
          },
          "metadata": {
            "tags": [],
            "needs_background": "light"
          }
        }
      ]
    },
    {
      "cell_type": "code",
      "metadata": {
        "id": "nlhT10ZVV6ON"
      },
      "source": [
        ""
      ],
      "execution_count": null,
      "outputs": []
    }
  ]
}
